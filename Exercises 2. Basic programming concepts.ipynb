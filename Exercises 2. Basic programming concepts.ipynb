{
 "cells": [
  {
   "cell_type": "markdown",
   "id": "06f6126f",
   "metadata": {},
   "source": [
    "\n",
    "# Exercises 2. Basic programming concepts\n"
   ]
  },
  {
   "cell_type": "markdown",
   "id": "c7586005",
   "metadata": {},
   "source": [
    "\n",
    "## Exercise 2.1 - Getting started with Python\n"
   ]
  },
  {
   "cell_type": "markdown",
   "id": "b8587c59",
   "metadata": {},
   "source": [
    "The goal of this exercise is to print text like that below to the screen based on variable values you define."
   ]
  },
  {
   "cell_type": "markdown",
   "id": "51bdfc7c",
   "metadata": {},
   "source": [
    "My name is Dave and I give eating ice cream a score of 9 out of 10!  \n",
    "My sleeping enjoyment rating is 8 / 10!  \n",
    "Based on the factors above, my happiness rating is 8.5 out of 10 or 85.0 %!  "
   ]
  },
  {
   "cell_type": "markdown",
   "id": "470f76c4",
   "metadata": {},
   "source": [
    "For this exercise you should:\n",
    "- Create three variables: one integer value (whole number) for your ice cream rating, another integer for your sleeping rating, and a character string for your first name.\n",
    "- Calculate the average of the two ratings. Store the result in a variable for your happiness.\n",
    "- Find the data type of each of the variables you have defined. Are there any surprises?\n",
    "- Reproduce your version of the example text using the print() function and the variables you have defined. Note that you may need to be careful combining text and numbers!"
   ]
  },
  {
   "cell_type": "code",
   "execution_count": 1,
   "id": "572a0aaa",
   "metadata": {},
   "outputs": [],
   "source": [
    "ice_cream_score = 9\n",
    "sleeping_enjoyment_rating = 8\n",
    "name = 'Ilya'"
   ]
  },
  {
   "cell_type": "code",
   "execution_count": 2,
   "id": "04d15b75",
   "metadata": {},
   "outputs": [],
   "source": [
    "my_happiness_rating = (ice_cream_score + sleeping_enjoyment_rating)/2\n",
    "my_happiness_rating_percent = my_happiness_rating*10"
   ]
  },
  {
   "cell_type": "code",
   "execution_count": 3,
   "id": "931b96ad",
   "metadata": {},
   "outputs": [
    {
     "name": "stdout",
     "output_type": "stream",
     "text": [
      "<class 'int'> <class 'int'> <class 'int'> <class 'float'>\n"
     ]
    }
   ],
   "source": [
    "print(type (ice_cream_score), type (sleeping_enjoyment_rating), type (sleeping_enjoyment_rating), type (my_happiness_rating))"
   ]
  },
  {
   "cell_type": "code",
   "execution_count": 4,
   "id": "87b20326",
   "metadata": {},
   "outputs": [
    {
     "name": "stdout",
     "output_type": "stream",
     "text": [
      "My name is Ilya and I give eating ice cream a score of 9 out of 10!\n",
      "My sleeping enjoyment rating is 8 / 10!\n",
      "Based on the factors above, my happiness rating is 8.5 out of 10 or 85.0 %!\n"
     ]
    }
   ],
   "source": [
    "print('My name is', name, 'and I give eating ice cream a score of', ice_cream_score, 'out of 10!\\n'\n",
    "      'My sleeping enjoyment rating is', sleeping_enjoyment_rating, '/ 10!\\n'\n",
    "      'Based on the factors above, my happiness rating is', my_happiness_rating, 'out of 10 or', my_happiness_rating_percent, '%!')"
   ]
  },
  {
   "cell_type": "markdown",
   "id": "f57d040e",
   "metadata": {},
   "source": [
    "\n",
    "## Exercise 2.2 - Creating and changing lists\n"
   ]
  },
  {
   "cell_type": "markdown",
   "id": "f772a111",
   "metadata": {},
   "source": [
    "For this exercise you should use the data in Table 2.5 to:\n",
    "\n",
    "- Create two lists for the station names and first years of operation for the stations in Group 1 in Table 2.5. Be sure to list the values in the order they appear in the table.\n",
    "\n",
    "- Modify the lists you just created to add the values Group 2, again keeping them in the same order.\n",
    "\n",
    "- Sort the two lists, sorting the first in alphabetical order and the second so that the most recent starting year is first\n",
    "\n",
    "    - Do you see any problems with how the lists have been sorted?\n",
    "\n",
    "    - Python has a function called zip() that might be helpful in solving the sorting issue. Search online to see whether you can find a way to use zip() to solve the problem with the two lists."
   ]
  },
  {
   "cell_type": "code",
   "execution_count": 5,
   "id": "b30e4e55",
   "metadata": {},
   "outputs": [
    {
     "name": "stdout",
     "output_type": "stream",
     "text": [
      "['lighthouse', 'Harmaja', 'Suomenlinna aaltopoiju', 'Kumpula', 'Kaisaniemi']\n",
      "[2003, 1989, 2016, 2005, 1844]\n"
     ]
    }
   ],
   "source": [
    "station_names = [\"lighthouse\", \"Harmaja\", \"Suomenlinna aaltopoiju\", \"Kumpula\", \"Kaisaniemi\"]\n",
    "station_first_year = [2003, 1989, 2016, 2005, 1844]\n",
    "print(station_names)\n",
    "print(station_first_year)"
   ]
  },
  {
   "cell_type": "code",
   "execution_count": 6,
   "id": "f737285e",
   "metadata": {},
   "outputs": [
    {
     "name": "stdout",
     "output_type": "stream",
     "text": [
      "['lighthouse', 'Harmaja', 'Suomenlinna aaltopoiju', 'Kumpula', 'Kaisaniemi', 'Malmi airfield', 'Vuosaari harbour', 'Kaivopuisto']\n",
      "[2003, 1989, 2016, 2005, 1844, 1937, 2012, 1904]\n"
     ]
    }
   ],
   "source": [
    "station_names.extend([\"Malmi airfield\",\"Vuosaari harbour\", \"Kaivopuisto\"])\n",
    "station_first_year.extend([1937, 2012, 1904])\n",
    "print(station_names)\n",
    "print(station_first_year)"
   ]
  },
  {
   "cell_type": "code",
   "execution_count": 7,
   "id": "adcfa723",
   "metadata": {},
   "outputs": [
    {
     "name": "stdout",
     "output_type": "stream",
     "text": [
      "['Harmaja', 'Kaisaniemi', 'Kaivopuisto', 'Kumpula', 'Malmi airfield', 'Suomenlinna aaltopoiju', 'Vuosaari harbour', 'lighthouse']\n",
      "[1904, 2012, 1937, 1844, 2005, 2016, 1989, 2003]\n"
     ]
    }
   ],
   "source": [
    "station_names.sort()\n",
    "station_first_year.reverse()\n",
    "print(station_names)\n",
    "print(station_first_year)"
   ]
  },
  {
   "cell_type": "markdown",
   "id": "17434d60",
   "metadata": {},
   "source": [
    "\n",
    "## Exercise 2.3 - Lists and index values\n"
   ]
  },
  {
   "cell_type": "markdown",
   "id": "f3e1ef3c",
   "metadata": {},
   "source": [
    "For this exercise you should use the data in Table 2.6 to:\n",
    "- Create two lists with the months and their average temperatures.\n",
    "- Use a print statement to produce output like that below, where the months and temperatures are selected using index values in the corresponding lists."
   ]
  },
  {
   "cell_type": "markdown",
   "id": "1eeac9e8",
   "metadata": {},
   "source": [
    "The average temperature in Helsinki in March is -1.0"
   ]
  },
  {
   "cell_type": "code",
   "execution_count": 8,
   "id": "fa20264a",
   "metadata": {},
   "outputs": [
    {
     "name": "stdout",
     "output_type": "stream",
     "text": [
      "The average temperature in Helsinki in January is -3.5\n"
     ]
    }
   ],
   "source": [
    "month = [\"January\", \"February\", \"March\", \"April\", \"May\", \"June\", \"July\", \"August\", \"September\", \"October\", \"November\", \"December\"]\n",
    "temperatures = [-3.5, -4.5, -1.0, 4.0, 10.0, 15.0, 18.0, 16.0, 11.5, 6.0, 2.0, -1.5]\n",
    "print(\"The average temperature in Helsinki in\", month[0], \"is\", temperatures[0])"
   ]
  },
  {
   "cell_type": "markdown",
   "id": "ccfc1cae",
   "metadata": {},
   "source": [
    "\n",
    "## Exercise 2.4 - Batch processing files with a for loop\n"
   ]
  },
  {
   "cell_type": "markdown",
   "id": "2b816f90",
   "metadata": {},
   "source": [
    "Batch processing is a common task in Python, where a set of data and/or files are analyzed one after another using the same script or program. In this exercise your goal is to produce a Python list of filenames that could be used to batch process the data they contain.  For this exercise you should:"
   ]
  },
  {
   "cell_type": "markdown",
   "id": "ce94c059",
   "metadata": {},
   "source": [
    "['Station_0.txt', 'Station_1.txt', 'Station_2.txt', 'Station_3.txt',\n",
    " 'Station_4.txt', 'Station_5.txt', 'Station_6.txt', 'Station_7.txt',\n",
    " 'Station_8.txt', 'Station_9.txt', 'Station_10.txt', 'Station_11.txt',\n",
    " 'Station_12.txt', 'Station_13.txt', 'Station_14.txt', 'Station_15.txt',\n",
    " 'Station_16.txt', 'Station_17.txt', 'Station_18.txt', 'Station_19.txt',\n",
    " 'Station_20.txt']"
   ]
  },
  {
   "cell_type": "code",
   "execution_count": 9,
   "id": "4102ac65",
   "metadata": {},
   "outputs": [],
   "source": [
    "stations = []"
   ]
  },
  {
   "cell_type": "code",
   "execution_count": 10,
   "id": "e280e945",
   "metadata": {},
   "outputs": [
    {
     "name": "stdout",
     "output_type": "stream",
     "text": [
      "Station_0.txt\n",
      "Station_1.txt\n",
      "Station_2.txt\n",
      "Station_3.txt\n",
      "Station_4.txt\n",
      "Station_5.txt\n",
      "Station_6.txt\n",
      "Station_7.txt\n",
      "Station_8.txt\n",
      "Station_9.txt\n",
      "Station_10.txt\n",
      "Station_11.txt\n",
      "Station_12.txt\n",
      "Station_13.txt\n",
      "Station_14.txt\n",
      "Station_15.txt\n",
      "Station_16.txt\n",
      "Station_17.txt\n",
      "Station_18.txt\n",
      "Station_19.txt\n",
      "Station_20.txt\n"
     ]
    }
   ],
   "source": [
    "for station_number in range(21):\n",
    "    print(f\"Station_{station_number}.txt\")"
   ]
  },
  {
   "cell_type": "markdown",
   "id": "f0827809",
   "metadata": {},
   "source": [
    "\n",
    "## Exercise 2.5 - Classifying temperatures\n"
   ]
  },
  {
   "cell_type": "markdown",
   "id": "5312a4b2",
   "metadata": {},
   "source": [
    "Data classification is another useful data analysis concept, where data values are sorted into different groups that help you to interpret the data. Your goal in this exercise is to sort a list of temperatures into four categories using a Python list for each category (Table 2.7):"
   ]
  },
  {
   "cell_type": "markdown",
   "id": "6a714b4b",
   "metadata": {},
   "source": [
    "The list of temperatures below were measured at the Helsinki Malmi Airport in April 2013 with night, day, and evening temperatures recorded for each day."
   ]
  },
  {
   "attachments": {
    "image-2.png": {
     "image/png": "[encoded data removed]"
    }
   },
   "cell_type": "markdown",
   "id": "9ba7ec1d",
   "metadata": {},
   "source": [
    "![image-2.png](attachment:image-2.png)"
   ]
  },
  {
   "cell_type": "code",
   "execution_count": 11,
   "id": "c6ad7642",
   "metadata": {},
   "outputs": [],
   "source": [
    "temperatures = [-5.4, 1.0, -1.3, -4.8, 3.9, 0.1, -4.4, 4.0, -2.2, -3.9, 4.4,\n",
    "                -2.5, -4.6, 5.1, 2.1, -2.4, 1.9, -3.3, -4.8, 1.0, -0.8, -2.8,\n",
    "                -0.1, -4.7, -5.6, 2.6, -2.7, -4.6, 3.4, -0.4, -0.9, 3.1, 2.4,\n",
    "                1.6, 4.2, 3.5, 2.6, 3.1, 2.2, 1.8, 3.3, 1.6, 1.5, 4.7, 4.0,\n",
    "                3.6, 4.9, 4.8, 5.3, 5.6, 4.1, 3.7, 7.6, 6.9, 5.1, 6.4, 3.8,\n",
    "                4.0, 8.6, 4.1, 1.4, 8.9, 3.0, 1.6, 8.5, 4.7, 6.6, 8.1, 4.5,\n",
    "                4.8, 11.3, 4.7, 5.2, 11.5, 6.2, 2.9, 4.3, 2.8, 2.8, 6.3, 2.6,\n",
    "                -0.0, 7.3, 3.4, 4.7, 9.3, 6.4, 5.4, 7.6, 5.2]"
   ]
  },
  {
   "cell_type": "markdown",
   "id": "1246c19b",
   "metadata": {},
   "source": [
    "For this exercise you should:\n",
    "- Use a for loop and conditional statments (e.g., if, elif, and else) to sort the temperatures in the list into the lists associated with each category (see Table 2.7).\n",
    "  - Hint: Create the empty lists before the start of the for loop.\n",
    "- Answer the following questions:\n",
    "  - How many times was it cold in Helsinki in April 2013?\n",
    "  - How many times was it comfortable?\n",
    "  - Was it ever warm?"
   ]
  },
  {
   "cell_type": "code",
   "execution_count": 12,
   "id": "c5414f03",
   "metadata": {},
   "outputs": [],
   "source": [
    "cold = []\n",
    "slippery = []\n",
    "comfortable = []\n",
    "warm = []"
   ]
  },
  {
   "cell_type": "code",
   "execution_count": 13,
   "id": "7d5f3d93",
   "metadata": {},
   "outputs": [],
   "source": [
    "for value in temperatures:\n",
    "    if value < -2: \n",
    "        cold.append(value)\n",
    "    elif -2 <= value < 2:\n",
    "        slippery.append(value)\n",
    "    elif 2 <= value < 15:\n",
    "        comfortable.append(value)\n",
    "    else:\n",
    "        warm.append(value)"
   ]
  },
  {
   "cell_type": "code",
   "execution_count": 14,
   "id": "44ac0412",
   "metadata": {},
   "outputs": [
    {
     "name": "stdout",
     "output_type": "stream",
     "text": [
      "Cold [-5.4, -4.8, -4.4, -2.2, -3.9, -2.5, -4.6, -2.4, -3.3, -4.8, -2.8, -4.7, -5.6, -2.7, -4.6]\n",
      "Slippery [1.0, -1.3, 0.1, 1.9, 1.0, -0.8, -0.1, -0.4, -0.9, 1.6, 1.8, 1.6, 1.5, 1.4, 1.6, -0.0]\n",
      "Comfortable [3.9, 4.0, 4.4, 5.1, 2.1, 2.6, 3.4, 3.1, 2.4, 4.2, 3.5, 2.6, 3.1, 2.2, 3.3, 4.7, 4.0, 3.6, 4.9, 4.8, 5.3, 5.6, 4.1, 3.7, 7.6, 6.9, 5.1, 6.4, 3.8, 4.0, 8.6, 4.1, 8.9, 3.0, 8.5, 4.7, 6.6, 8.1, 4.5, 4.8, 11.3, 4.7, 5.2, 11.5, 6.2, 2.9, 4.3, 2.8, 2.8, 6.3, 2.6, 7.3, 3.4, 4.7, 9.3, 6.4, 5.4, 7.6, 5.2]\n",
      "Warm []\n"
     ]
    }
   ],
   "source": [
    "print(\"Cold\", cold)\n",
    "print(\"Slippery\", slippery)\n",
    "print(\"Comfortable\", comfortable)\n",
    "print(\"Warm\", warm)"
   ]
  },
  {
   "cell_type": "code",
   "execution_count": 15,
   "id": "07d6b006",
   "metadata": {},
   "outputs": [
    {
     "name": "stdout",
     "output_type": "stream",
     "text": [
      "15 times it was cold in Helsinki in April 2013\n",
      "59 times it was comfortable\n",
      "0 times it was warm\n"
     ]
    }
   ],
   "source": [
    "print(len(cold), \"times it was cold in Helsinki in April 2013\")\n",
    "print(len(comfortable), \"times it was comfortable\")\n",
    "print(len(warm), \"times it was warm\")"
   ]
  },
  {
   "cell_type": "markdown",
   "id": "009bacd9",
   "metadata": {},
   "source": [
    "\n",
    "## Exercise 2.6 - A temperature conversion function\n"
   ]
  },
  {
   "cell_type": "markdown",
   "id": "fc6e801e",
   "metadata": {},
   "source": [
    "Functions are commonly used for small calculations that occur frequently within a program, such as converting between units.\n",
    "For this problem you should:\n",
    "- Create a function to converts temperature in degrees Fahrenheit to degrees Celsius.\n",
    "  - Be sure to include a docstring in the function definition.\n",
    "- Use the new function to convert the temperatures below to Celsius:\n",
    "  - 32 °F\n",
    "  - 68 °F\n",
    "  - 91 °F\n",
    "  - -17 °F"
   ]
  },
  {
   "cell_type": "code",
   "execution_count": 16,
   "id": "ee1b713d",
   "metadata": {},
   "outputs": [],
   "source": [
    "def fahr_to_cels(fahr_temp):\n",
    "    \"\"\" \n",
    "    Converts temperature in Fahrenheit to degrees Celsius.\n",
    "\n",
    "    Parameters\n",
    "    ----------\n",
    "    fahr_temp: <numerical>\n",
    "        Temperature in Fahrenheit\n",
    "\n",
    "    Returns\n",
    "    -------\n",
    "    <float>\n",
    "        Converted temperature.\"\"\"\n",
    "    return 5/9 * (fahr_temp - 32)"
   ]
  },
  {
   "cell_type": "code",
   "execution_count": 17,
   "id": "c5b5de76",
   "metadata": {},
   "outputs": [
    {
     "name": "stdout",
     "output_type": "stream",
     "text": [
      "0.0, 20.0, 32.8, -27.2\n"
     ]
    }
   ],
   "source": [
    "print(f\"{fahr_to_cels(32):.1f}, {fahr_to_cels(68):.1f}, {fahr_to_cels(91):.1f}, {fahr_to_cels(-17):.1f}\")"
   ]
  },
  {
   "cell_type": "markdown",
   "id": "8eb40398",
   "metadata": {},
   "source": [
    "\n",
    "## Exercise 2.7 - A temperature classifier function\n",
    "    "
   ]
  },
  {
   "cell_type": "markdown",
   "id": "0c8e54ac",
   "metadata": {},
   "source": [
    "This exercise uses the same logic presented in Exercise 2.5 to classify temperatures, but now using a function.\n",
    "\n",
    "In this exercise you should:\n",
    "\n",
    "- Create a function that classifies temperatures based on Table 2.7.\n",
    "\n",
    "  - The function should return the following values for the different categories\n",
    "\n",
    "    - 0: Cold\n",
    "\n",
    "    - 1: Slippery\n",
    "\n",
    "    - 2: Comfortable\n",
    "\n",
    "    - 3: Warm\n",
    "\n",
    "- Use the function to calculate the returned value the following temperatures:\n",
    "\n",
    "  - +17 °C\n",
    "\n",
    "  - +2 °C\n",
    "\n",
    "  - +1.9 °C\n",
    "\n",
    "  - -2 °C"
   ]
  },
  {
   "cell_type": "code",
   "execution_count": 18,
   "id": "0cc7e7a5",
   "metadata": {},
   "outputs": [],
   "source": [
    "def wether_by_temperature(temp):\n",
    "    \"\"\" \n",
    "    Classifies temperatures based on Table 2.7 from temperature to score\n",
    "\n",
    "    Parameters\n",
    "    ----------\n",
    "    temp: <numerical>\n",
    "        Temperature in Celsius\n",
    "\n",
    "    Returns\n",
    "    -------\n",
    "    <integer>\n",
    "        Score of temperature.\"\"\"\n",
    "    if temp < -2: \n",
    "        return 0\n",
    "    elif -2 <= temp < 2:\n",
    "        return 1\n",
    "    elif 2 <= temp < 15:\n",
    "        return 2\n",
    "    else:\n",
    "        return 3"
   ]
  },
  {
   "cell_type": "code",
   "execution_count": 19,
   "id": "c73888a0",
   "metadata": {},
   "outputs": [],
   "source": [
    "data_temperature = [+17, +2, +1.9, -2]"
   ]
  },
  {
   "cell_type": "code",
   "execution_count": 20,
   "id": "480b1432",
   "metadata": {},
   "outputs": [
    {
     "name": "stdout",
     "output_type": "stream",
     "text": [
      "3\n",
      "2\n",
      "1\n",
      "1\n"
     ]
    }
   ],
   "source": [
    "for value in data_temperature:\n",
    "    score = wether_by_temperature(value)\n",
    "    print(score)"
   ]
  },
  {
   "cell_type": "markdown",
   "id": "347eca70",
   "metadata": {},
   "source": [
    "\n",
    "## All Is Done!\n"
   ]
  }
 ],
 "metadata": {
  "kernelspec": {
   "display_name": "Python 3 (ipykernel)",
   "language": "python",
   "name": "python3"
  },
  "language_info": {
   "codemirror_mode": {
    "name": "ipython",
    "version": 3
   },
   "file_extension": ".py",
   "mimetype": "text/x-python",
   "name": "python",
   "nbconvert_exporter": "python",
   "pygments_lexer": "ipython3",
   "version": "3.11.5"
  }
 },
 "nbformat": 4,
 "nbformat_minor": 5
}
